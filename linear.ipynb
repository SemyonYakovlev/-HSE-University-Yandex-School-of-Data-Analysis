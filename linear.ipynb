{
 "cells": [
  {
   "cell_type": "code",
   "execution_count": 67,
   "metadata": {},
   "outputs": [],
   "source": [
    "import pandas as pd\n",
    "\n",
    "data_train = pd.read_csv('perceptron-train.csv',header=None)\n",
    "data_test = pd.read_csv('perceptron-test.csv',header=None)\n",
    "\n",
    "\n",
    "X_train,Y_train = data_train[[1,2]],data_train[0]\n",
    "X_test,Y_test = data_test[[1,2]],data_test[0]"
   ]
  },
  {
   "cell_type": "code",
   "execution_count": 68,
   "metadata": {},
   "outputs": [
    {
     "data": {
      "text/plain": [
       "array([-1., -1.,  1., -1., -1., -1.,  1.,  1.,  1.,  1., -1., -1., -1.,\n",
       "       -1., -1., -1.,  1., -1., -1.,  1.,  1.,  1.,  1., -1.,  1., -1.,\n",
       "        1.,  1., -1.,  1.,  1.,  1., -1.,  1., -1., -1., -1.,  1.,  1.,\n",
       "        1.,  1., -1., -1.,  1., -1.,  1., -1., -1.,  1.,  1., -1.,  1.,\n",
       "       -1.,  1., -1.,  1.,  1.,  1.,  1.,  1.,  1., -1.,  1.,  1.,  1.,\n",
       "        1., -1., -1., -1.,  1.,  1.,  1., -1.,  1., -1., -1., -1.,  1.,\n",
       "        1., -1., -1., -1.,  1., -1., -1.,  1., -1.,  1., -1., -1., -1.,\n",
       "        1.,  1.,  1.,  1.,  1., -1.,  1.,  1.,  1., -1.,  1.,  1.,  1.,\n",
       "        1.,  1., -1., -1.,  1.,  1.,  1., -1., -1.,  1., -1.,  1., -1.,\n",
       "        1., -1., -1.,  1., -1., -1., -1., -1.,  1.,  1.,  1., -1., -1.,\n",
       "        1., -1., -1., -1., -1., -1.,  1.,  1., -1.,  1.,  1.,  1.,  1.,\n",
       "        1., -1.,  1.,  1.,  1.,  1.,  1., -1., -1., -1., -1., -1., -1.,\n",
       "        1., -1.,  1.,  1., -1.,  1., -1., -1.,  1., -1.,  1., -1., -1.,\n",
       "       -1., -1.,  1., -1.,  1.,  1., -1.,  1., -1., -1., -1., -1., -1.,\n",
       "        1., -1.,  1., -1.,  1., -1., -1., -1.,  1., -1., -1., -1.,  1.,\n",
       "       -1., -1.,  1., -1.,  1.])"
      ]
     },
     "execution_count": 68,
     "metadata": {},
     "output_type": "execute_result"
    }
   ],
   "source": [
    "from sklearn.linear_model import Perceptron\n",
    "\n",
    "model = Perceptron()\n",
    "model.fit(X_train,Y_train)\n",
    "predictions = model.predict(X_test)\n",
    "predictions"
   ]
  },
  {
   "cell_type": "code",
   "execution_count": 69,
   "metadata": {},
   "outputs": [
    {
     "data": {
      "text/plain": [
       "0.655"
      ]
     },
     "execution_count": 69,
     "metadata": {},
     "output_type": "execute_result"
    }
   ],
   "source": [
    "from sklearn.metrics import accuracy_score\n",
    "\n",
    "ACC_SCORE_1 = accuracy_score(predictions, Y_test)\n",
    "ACC_SCORE_1"
   ]
  },
  {
   "cell_type": "code",
   "execution_count": 70,
   "metadata": {},
   "outputs": [],
   "source": [
    "from sklearn.preprocessing import StandardScaler\n",
    "scaler = StandardScaler()\n",
    "\n",
    "X_train_scaled = scaler.fit_transform(X_train)\n",
    "X_test_scaled = scaler.transform(X_test)"
   ]
  },
  {
   "cell_type": "code",
   "execution_count": 71,
   "metadata": {},
   "outputs": [
    {
     "data": {
      "text/plain": [
       "array([-1., -1., -1., -1., -1.,  1.,  1.,  1., -1.,  1., -1., -1., -1.,\n",
       "       -1., -1., -1.,  1.,  1., -1.,  1., -1., -1.,  1., -1.,  1., -1.,\n",
       "        1.,  1., -1., -1.,  1.,  1., -1.,  1., -1.,  1.,  1., -1.,  1.,\n",
       "       -1.,  1., -1., -1.,  1., -1.,  1., -1.,  1.,  1.,  1., -1.,  1.,\n",
       "       -1.,  1., -1.,  1.,  1., -1.,  1.,  1.,  1.,  1.,  1.,  1.,  1.,\n",
       "        1., -1., -1.,  1.,  1.,  1., -1., -1.,  1., -1., -1., -1.,  1.,\n",
       "        1., -1., -1.,  1.,  1., -1.,  1.,  1., -1., -1., -1., -1.,  1.,\n",
       "       -1., -1.,  1., -1., -1., -1.,  1.,  1.,  1., -1., -1., -1., -1.,\n",
       "        1.,  1., -1., -1.,  1., -1.,  1., -1., -1., -1., -1.,  1.,  1.,\n",
       "        1., -1.,  1.,  1., -1., -1., -1., -1.,  1., -1.,  1., -1., -1.,\n",
       "       -1.,  1., -1., -1., -1.,  1.,  1., -1., -1.,  1.,  1.,  1.,  1.,\n",
       "        1., -1.,  1.,  1.,  1.,  1.,  1., -1.,  1., -1., -1., -1.,  1.,\n",
       "        1., -1.,  1.,  1., -1.,  1., -1., -1.,  1., -1.,  1., -1.,  1.,\n",
       "       -1., -1.,  1.,  1.,  1.,  1., -1.,  1., -1., -1., -1., -1., -1.,\n",
       "        1.,  1., -1., -1.,  1., -1.,  1., -1.,  1., -1.,  1.,  1.,  1.,\n",
       "       -1.,  1.,  1., -1.,  1.])"
      ]
     },
     "execution_count": 71,
     "metadata": {},
     "output_type": "execute_result"
    }
   ],
   "source": [
    "from sklearn.linear_model import Perceptron\n",
    "\n",
    "model = Perceptron()\n",
    "model.fit(X_train_scaled,Y_train)\n",
    "predictions_scaled = model.predict(X_test_scaled)\n",
    "predictions_scaled"
   ]
  },
  {
   "cell_type": "code",
   "execution_count": 73,
   "metadata": {},
   "outputs": [
    {
     "data": {
      "text/plain": [
       "0.845"
      ]
     },
     "execution_count": 73,
     "metadata": {},
     "output_type": "execute_result"
    }
   ],
   "source": [
    "from sklearn.metrics import accuracy_score\n",
    "\n",
    "ACC_SCORE_2 = accuracy_score(predictions_scaled, Y_test)\n",
    "ACC_SCORE_2"
   ]
  },
  {
   "cell_type": "code",
   "execution_count": 76,
   "metadata": {},
   "outputs": [
    {
     "data": {
      "text/plain": [
       "0.19"
      ]
     },
     "execution_count": 76,
     "metadata": {},
     "output_type": "execute_result"
    }
   ],
   "source": [
    "round(abs(ACC_SCORE_1 - ACC_SCORE_2),3)"
   ]
  }
 ],
 "metadata": {
  "kernelspec": {
   "display_name": "Python 3",
   "language": "python",
   "name": "python3"
  },
  "language_info": {
   "codemirror_mode": {
    "name": "ipython",
    "version": 3
   },
   "file_extension": ".py",
   "mimetype": "text/x-python",
   "name": "python",
   "nbconvert_exporter": "python",
   "pygments_lexer": "ipython3",
   "version": "3.7.6"
  }
 },
 "nbformat": 4,
 "nbformat_minor": 4
}
