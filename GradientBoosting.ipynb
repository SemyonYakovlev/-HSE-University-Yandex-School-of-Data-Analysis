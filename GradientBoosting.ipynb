{
 "cells": [
  {
   "cell_type": "code",
   "execution_count": 1,
   "metadata": {},
   "outputs": [
    {
     "data": {
      "text/html": [
       "<div>\n",
       "<style scoped>\n",
       "    .dataframe tbody tr th:only-of-type {\n",
       "        vertical-align: middle;\n",
       "    }\n",
       "\n",
       "    .dataframe tbody tr th {\n",
       "        vertical-align: top;\n",
       "    }\n",
       "\n",
       "    .dataframe thead th {\n",
       "        text-align: right;\n",
       "    }\n",
       "</style>\n",
       "<table border=\"1\" class=\"dataframe\">\n",
       "  <thead>\n",
       "    <tr style=\"text-align: right;\">\n",
       "      <th></th>\n",
       "      <th>Activity</th>\n",
       "      <th>D1</th>\n",
       "      <th>D2</th>\n",
       "      <th>D3</th>\n",
       "      <th>D4</th>\n",
       "      <th>D5</th>\n",
       "      <th>D6</th>\n",
       "      <th>D7</th>\n",
       "      <th>D8</th>\n",
       "      <th>D9</th>\n",
       "      <th>...</th>\n",
       "      <th>D1767</th>\n",
       "      <th>D1768</th>\n",
       "      <th>D1769</th>\n",
       "      <th>D1770</th>\n",
       "      <th>D1771</th>\n",
       "      <th>D1772</th>\n",
       "      <th>D1773</th>\n",
       "      <th>D1774</th>\n",
       "      <th>D1775</th>\n",
       "      <th>D1776</th>\n",
       "    </tr>\n",
       "  </thead>\n",
       "  <tbody>\n",
       "    <tr>\n",
       "      <th>0</th>\n",
       "      <td>1</td>\n",
       "      <td>0.000000</td>\n",
       "      <td>0.497009</td>\n",
       "      <td>0.10</td>\n",
       "      <td>0.0</td>\n",
       "      <td>0.132956</td>\n",
       "      <td>0.678031</td>\n",
       "      <td>0.273166</td>\n",
       "      <td>0.585445</td>\n",
       "      <td>0.743663</td>\n",
       "      <td>...</td>\n",
       "      <td>0</td>\n",
       "      <td>0</td>\n",
       "      <td>0</td>\n",
       "      <td>0</td>\n",
       "      <td>0</td>\n",
       "      <td>0</td>\n",
       "      <td>0</td>\n",
       "      <td>0</td>\n",
       "      <td>0</td>\n",
       "      <td>0</td>\n",
       "    </tr>\n",
       "    <tr>\n",
       "      <th>1</th>\n",
       "      <td>1</td>\n",
       "      <td>0.366667</td>\n",
       "      <td>0.606291</td>\n",
       "      <td>0.05</td>\n",
       "      <td>0.0</td>\n",
       "      <td>0.111209</td>\n",
       "      <td>0.803455</td>\n",
       "      <td>0.106105</td>\n",
       "      <td>0.411754</td>\n",
       "      <td>0.836582</td>\n",
       "      <td>...</td>\n",
       "      <td>1</td>\n",
       "      <td>1</td>\n",
       "      <td>1</td>\n",
       "      <td>1</td>\n",
       "      <td>0</td>\n",
       "      <td>1</td>\n",
       "      <td>0</td>\n",
       "      <td>0</td>\n",
       "      <td>1</td>\n",
       "      <td>0</td>\n",
       "    </tr>\n",
       "    <tr>\n",
       "      <th>2</th>\n",
       "      <td>1</td>\n",
       "      <td>0.033300</td>\n",
       "      <td>0.480124</td>\n",
       "      <td>0.00</td>\n",
       "      <td>0.0</td>\n",
       "      <td>0.209791</td>\n",
       "      <td>0.610350</td>\n",
       "      <td>0.356453</td>\n",
       "      <td>0.517720</td>\n",
       "      <td>0.679051</td>\n",
       "      <td>...</td>\n",
       "      <td>0</td>\n",
       "      <td>0</td>\n",
       "      <td>0</td>\n",
       "      <td>0</td>\n",
       "      <td>0</td>\n",
       "      <td>0</td>\n",
       "      <td>0</td>\n",
       "      <td>0</td>\n",
       "      <td>0</td>\n",
       "      <td>0</td>\n",
       "    </tr>\n",
       "    <tr>\n",
       "      <th>3</th>\n",
       "      <td>1</td>\n",
       "      <td>0.000000</td>\n",
       "      <td>0.538825</td>\n",
       "      <td>0.00</td>\n",
       "      <td>0.5</td>\n",
       "      <td>0.196344</td>\n",
       "      <td>0.724230</td>\n",
       "      <td>0.235606</td>\n",
       "      <td>0.288764</td>\n",
       "      <td>0.805110</td>\n",
       "      <td>...</td>\n",
       "      <td>0</td>\n",
       "      <td>0</td>\n",
       "      <td>0</td>\n",
       "      <td>0</td>\n",
       "      <td>0</td>\n",
       "      <td>0</td>\n",
       "      <td>0</td>\n",
       "      <td>0</td>\n",
       "      <td>0</td>\n",
       "      <td>0</td>\n",
       "    </tr>\n",
       "    <tr>\n",
       "      <th>4</th>\n",
       "      <td>0</td>\n",
       "      <td>0.100000</td>\n",
       "      <td>0.517794</td>\n",
       "      <td>0.00</td>\n",
       "      <td>0.0</td>\n",
       "      <td>0.494734</td>\n",
       "      <td>0.781422</td>\n",
       "      <td>0.154361</td>\n",
       "      <td>0.303809</td>\n",
       "      <td>0.812646</td>\n",
       "      <td>...</td>\n",
       "      <td>0</td>\n",
       "      <td>0</td>\n",
       "      <td>0</td>\n",
       "      <td>0</td>\n",
       "      <td>0</td>\n",
       "      <td>0</td>\n",
       "      <td>0</td>\n",
       "      <td>0</td>\n",
       "      <td>0</td>\n",
       "      <td>0</td>\n",
       "    </tr>\n",
       "    <tr>\n",
       "      <th>...</th>\n",
       "      <td>...</td>\n",
       "      <td>...</td>\n",
       "      <td>...</td>\n",
       "      <td>...</td>\n",
       "      <td>...</td>\n",
       "      <td>...</td>\n",
       "      <td>...</td>\n",
       "      <td>...</td>\n",
       "      <td>...</td>\n",
       "      <td>...</td>\n",
       "      <td>...</td>\n",
       "      <td>...</td>\n",
       "      <td>...</td>\n",
       "      <td>...</td>\n",
       "      <td>...</td>\n",
       "      <td>...</td>\n",
       "      <td>...</td>\n",
       "      <td>...</td>\n",
       "      <td>...</td>\n",
       "      <td>...</td>\n",
       "      <td>...</td>\n",
       "    </tr>\n",
       "    <tr>\n",
       "      <th>3746</th>\n",
       "      <td>1</td>\n",
       "      <td>0.033300</td>\n",
       "      <td>0.506409</td>\n",
       "      <td>0.10</td>\n",
       "      <td>0.0</td>\n",
       "      <td>0.209887</td>\n",
       "      <td>0.633426</td>\n",
       "      <td>0.297659</td>\n",
       "      <td>0.376124</td>\n",
       "      <td>0.727093</td>\n",
       "      <td>...</td>\n",
       "      <td>0</td>\n",
       "      <td>0</td>\n",
       "      <td>0</td>\n",
       "      <td>0</td>\n",
       "      <td>0</td>\n",
       "      <td>0</td>\n",
       "      <td>0</td>\n",
       "      <td>0</td>\n",
       "      <td>0</td>\n",
       "      <td>0</td>\n",
       "    </tr>\n",
       "    <tr>\n",
       "      <th>3747</th>\n",
       "      <td>1</td>\n",
       "      <td>0.133333</td>\n",
       "      <td>0.651023</td>\n",
       "      <td>0.15</td>\n",
       "      <td>0.0</td>\n",
       "      <td>0.151154</td>\n",
       "      <td>0.766505</td>\n",
       "      <td>0.170876</td>\n",
       "      <td>0.404546</td>\n",
       "      <td>0.787935</td>\n",
       "      <td>...</td>\n",
       "      <td>0</td>\n",
       "      <td>0</td>\n",
       "      <td>1</td>\n",
       "      <td>0</td>\n",
       "      <td>1</td>\n",
       "      <td>0</td>\n",
       "      <td>1</td>\n",
       "      <td>0</td>\n",
       "      <td>0</td>\n",
       "      <td>0</td>\n",
       "    </tr>\n",
       "    <tr>\n",
       "      <th>3748</th>\n",
       "      <td>0</td>\n",
       "      <td>0.200000</td>\n",
       "      <td>0.520564</td>\n",
       "      <td>0.00</td>\n",
       "      <td>0.0</td>\n",
       "      <td>0.179949</td>\n",
       "      <td>0.768785</td>\n",
       "      <td>0.177341</td>\n",
       "      <td>0.471179</td>\n",
       "      <td>0.872241</td>\n",
       "      <td>...</td>\n",
       "      <td>0</td>\n",
       "      <td>0</td>\n",
       "      <td>0</td>\n",
       "      <td>0</td>\n",
       "      <td>0</td>\n",
       "      <td>0</td>\n",
       "      <td>0</td>\n",
       "      <td>0</td>\n",
       "      <td>0</td>\n",
       "      <td>0</td>\n",
       "    </tr>\n",
       "    <tr>\n",
       "      <th>3749</th>\n",
       "      <td>1</td>\n",
       "      <td>0.100000</td>\n",
       "      <td>0.765646</td>\n",
       "      <td>0.00</td>\n",
       "      <td>0.0</td>\n",
       "      <td>0.536954</td>\n",
       "      <td>0.634936</td>\n",
       "      <td>0.342713</td>\n",
       "      <td>0.447162</td>\n",
       "      <td>0.672689</td>\n",
       "      <td>...</td>\n",
       "      <td>0</td>\n",
       "      <td>0</td>\n",
       "      <td>0</td>\n",
       "      <td>0</td>\n",
       "      <td>0</td>\n",
       "      <td>0</td>\n",
       "      <td>0</td>\n",
       "      <td>0</td>\n",
       "      <td>0</td>\n",
       "      <td>0</td>\n",
       "    </tr>\n",
       "    <tr>\n",
       "      <th>3750</th>\n",
       "      <td>0</td>\n",
       "      <td>0.133333</td>\n",
       "      <td>0.533952</td>\n",
       "      <td>0.00</td>\n",
       "      <td>0.0</td>\n",
       "      <td>0.347966</td>\n",
       "      <td>0.757971</td>\n",
       "      <td>0.230667</td>\n",
       "      <td>0.272652</td>\n",
       "      <td>0.854116</td>\n",
       "      <td>...</td>\n",
       "      <td>0</td>\n",
       "      <td>0</td>\n",
       "      <td>0</td>\n",
       "      <td>0</td>\n",
       "      <td>0</td>\n",
       "      <td>0</td>\n",
       "      <td>0</td>\n",
       "      <td>0</td>\n",
       "      <td>0</td>\n",
       "      <td>0</td>\n",
       "    </tr>\n",
       "  </tbody>\n",
       "</table>\n",
       "<p>3751 rows × 1777 columns</p>\n",
       "</div>"
      ],
      "text/plain": [
       "      Activity        D1        D2    D3   D4        D5        D6        D7  \\\n",
       "0            1  0.000000  0.497009  0.10  0.0  0.132956  0.678031  0.273166   \n",
       "1            1  0.366667  0.606291  0.05  0.0  0.111209  0.803455  0.106105   \n",
       "2            1  0.033300  0.480124  0.00  0.0  0.209791  0.610350  0.356453   \n",
       "3            1  0.000000  0.538825  0.00  0.5  0.196344  0.724230  0.235606   \n",
       "4            0  0.100000  0.517794  0.00  0.0  0.494734  0.781422  0.154361   \n",
       "...        ...       ...       ...   ...  ...       ...       ...       ...   \n",
       "3746         1  0.033300  0.506409  0.10  0.0  0.209887  0.633426  0.297659   \n",
       "3747         1  0.133333  0.651023  0.15  0.0  0.151154  0.766505  0.170876   \n",
       "3748         0  0.200000  0.520564  0.00  0.0  0.179949  0.768785  0.177341   \n",
       "3749         1  0.100000  0.765646  0.00  0.0  0.536954  0.634936  0.342713   \n",
       "3750         0  0.133333  0.533952  0.00  0.0  0.347966  0.757971  0.230667   \n",
       "\n",
       "            D8        D9  ...  D1767  D1768  D1769  D1770  D1771  D1772  \\\n",
       "0     0.585445  0.743663  ...      0      0      0      0      0      0   \n",
       "1     0.411754  0.836582  ...      1      1      1      1      0      1   \n",
       "2     0.517720  0.679051  ...      0      0      0      0      0      0   \n",
       "3     0.288764  0.805110  ...      0      0      0      0      0      0   \n",
       "4     0.303809  0.812646  ...      0      0      0      0      0      0   \n",
       "...        ...       ...  ...    ...    ...    ...    ...    ...    ...   \n",
       "3746  0.376124  0.727093  ...      0      0      0      0      0      0   \n",
       "3747  0.404546  0.787935  ...      0      0      1      0      1      0   \n",
       "3748  0.471179  0.872241  ...      0      0      0      0      0      0   \n",
       "3749  0.447162  0.672689  ...      0      0      0      0      0      0   \n",
       "3750  0.272652  0.854116  ...      0      0      0      0      0      0   \n",
       "\n",
       "      D1773  D1774  D1775  D1776  \n",
       "0         0      0      0      0  \n",
       "1         0      0      1      0  \n",
       "2         0      0      0      0  \n",
       "3         0      0      0      0  \n",
       "4         0      0      0      0  \n",
       "...     ...    ...    ...    ...  \n",
       "3746      0      0      0      0  \n",
       "3747      1      0      0      0  \n",
       "3748      0      0      0      0  \n",
       "3749      0      0      0      0  \n",
       "3750      0      0      0      0  \n",
       "\n",
       "[3751 rows x 1777 columns]"
      ]
     },
     "execution_count": 1,
     "metadata": {},
     "output_type": "execute_result"
    }
   ],
   "source": [
    "import pandas as pd\n",
    "from sklearn.model_selection import train_test_split\n",
    "from sklearn.ensemble import GradientBoostingClassifier, RandomForestClassifier\n",
    "from sklearn.metrics import log_loss\n",
    "import numpy as np\n",
    "import matplotlib.pyplot as plt\n",
    "\n",
    "gbm = pd.read_csv('gbm-data.csv')\n",
    "gbm"
   ]
  },
  {
   "cell_type": "code",
   "execution_count": 2,
   "metadata": {},
   "outputs": [
    {
     "data": {
      "text/plain": [
       "array([[1.        , 0.        , 0.49700901, ..., 0.        , 0.        ,\n",
       "        0.        ],\n",
       "       [1.        , 0.36666667, 0.60629148, ..., 0.        , 1.        ,\n",
       "        0.        ],\n",
       "       [1.        , 0.0333    , 0.48012427, ..., 0.        , 0.        ,\n",
       "        0.        ],\n",
       "       ...,\n",
       "       [0.        , 0.2       , 0.52056377, ..., 0.        , 0.        ,\n",
       "        0.        ],\n",
       "       [1.        , 0.1       , 0.7656462 , ..., 0.        , 0.        ,\n",
       "        0.        ],\n",
       "       [0.        , 0.13333333, 0.53395198, ..., 0.        , 0.        ,\n",
       "        0.        ]])"
      ]
     },
     "execution_count": 2,
     "metadata": {},
     "output_type": "execute_result"
    }
   ],
   "source": [
    "massiv = gbm.values\n",
    "massiv"
   ]
  },
  {
   "cell_type": "code",
   "execution_count": 3,
   "metadata": {},
   "outputs": [],
   "source": [
    "X_train, X_test, y_train, y_test = train_test_split(massiv[0:,1:], massiv[0:,0], test_size = 0.8, random_state = 241)"
   ]
  },
  {
   "cell_type": "code",
   "execution_count": 4,
   "metadata": {},
   "outputs": [
    {
     "name": "stdout",
     "output_type": "stream",
     "text": [
      "      Iter       Train Loss   Remaining Time \n",
      "         1           1.0190           11.20s\n",
      "         2           0.9192           11.28s\n",
      "         3           0.8272           11.36s\n",
      "         4           0.7834           11.31s\n",
      "         5           0.7109           11.51s\n",
      "         6           0.6368           11.22s\n",
      "         7           0.5797           11.02s\n",
      "         8           0.5610           11.00s\n",
      "         9           0.5185           10.89s\n",
      "        10           0.4984           10.81s\n",
      "        20           0.1999           10.04s\n",
      "        30           0.1313            9.50s\n",
      "        40           0.0790            9.04s\n",
      "        50           0.0511            8.43s\n",
      "        60           0.0352            8.00s\n",
      "        70           0.0245            7.51s\n",
      "        80           0.0162            7.33s\n",
      "        90           0.0114            7.00s\n",
      "       100           0.0077            6.61s\n",
      "       200           0.0004            1.89s\n"
     ]
    },
    {
     "data": {
      "text/plain": [
       "[<matplotlib.lines.Line2D at 0x17150fa4708>]"
      ]
     },
     "execution_count": 4,
     "metadata": {},
     "output_type": "execute_result"
    },
    {
     "data": {
      "image/png": "[encoded data removed]",
      "text/plain": [
       "<Figure size 432x288 with 1 Axes>"
      ]
     },
     "metadata": {
      "needs_background": "light"
     },
     "output_type": "display_data"
    }
   ],
   "source": [
    "clf = GradientBoostingClassifier(n_estimators=250,verbose=True, random_state=241,learning_rate=1).fit(X_train, y_train)\n",
    "clf.score(X_test, y_test)\n",
    "best = []\n",
    "loss = []\n",
    "for y_pred in clf.staged_decision_function(X_train):\n",
    "    loss.append(log_loss(y_train, 1.0 / (1.0 + np.exp(-y_pred))))\n",
    "min_iter = np.argmin(loss)\n",
    "min_loss = loss[min_iter]\n",
    "\n",
    "loss_test = []\n",
    "for y_pred in clf.staged_decision_function(X_test):\n",
    "    loss_test.append(log_loss(y_test, 1.0 / (1.0 + np.exp(-y_pred))))\n",
    "min_iter_test = np.argmin(loss_test)\n",
    "min_loss_test = loss_test[min_iter]\n",
    "best.append([min(loss_test),min_iter_test])\n",
    "\n",
    "plt.figure()\n",
    "plt.grid()\n",
    "plt.plot(loss)  \n",
    "plt.plot(loss_test)  "
   ]
  },
  {
   "cell_type": "code",
   "execution_count": 5,
   "metadata": {},
   "outputs": [
    {
     "name": "stdout",
     "output_type": "stream",
     "text": [
      "      Iter       Train Loss   Remaining Time \n",
      "         1           1.1255            9.71s\n",
      "         2           1.0035            9.17s\n",
      "         3           0.9386            8.82s\n",
      "         4           0.8844            8.62s\n",
      "         5           0.8381            8.43s\n",
      "         6           0.7995            8.58s\n",
      "         7           0.7559            8.85s\n",
      "         8           0.7205            8.89s\n",
      "         9           0.6958            9.03s\n",
      "        10           0.6725            9.12s\n",
      "        20           0.4672            9.18s\n",
      "        30           0.3179            8.67s\n",
      "        40           0.2274            8.31s\n",
      "        50           0.1774            7.88s\n",
      "        60           0.1394            7.79s\n",
      "        70           0.1050            7.32s\n",
      "        80           0.0805            6.84s\n",
      "        90           0.0650            6.38s\n",
      "       100           0.0511            5.91s\n",
      "       200           0.0058            1.84s\n"
     ]
    },
    {
     "data": {
      "text/plain": [
       "[<matplotlib.lines.Line2D at 0x1715299a6c8>]"
      ]
     },
     "execution_count": 5,
     "metadata": {},
     "output_type": "execute_result"
    },
    {
     "data": {
      "image/png": "[encoded data removed]",
      "text/plain": [
       "<Figure size 432x288 with 1 Axes>"
      ]
     },
     "metadata": {
      "needs_background": "light"
     },
     "output_type": "display_data"
    }
   ],
   "source": [
    "clf = GradientBoostingClassifier(n_estimators=250,verbose=True, random_state=241,learning_rate=0.5).fit(X_train, y_train)\n",
    "clf.score(X_test, y_test)\n",
    "\n",
    "loss = []\n",
    "for y_pred in clf.staged_decision_function(X_train):\n",
    "    loss.append(log_loss(y_train, 1.0 / (1.0 + np.exp(-y_pred))))\n",
    "min_iter = np.argmin(loss)\n",
    "min_loss = loss[min_iter]\n",
    "\n",
    "loss_test = []\n",
    "for y_pred in clf.staged_decision_function(X_test):\n",
    "    loss_test.append(log_loss(y_test, 1.0 / (1.0 + np.exp(-y_pred))))\n",
    "min_iter_test = np.argmin(loss_test)\n",
    "min_loss_test = loss_test[min_iter]\n",
    "best.append([min(loss_test),min_iter_test])\n",
    "\n",
    "plt.figure()\n",
    "plt.grid()\n",
    "plt.plot(loss)  \n",
    "plt.plot(loss_test)  "
   ]
  },
  {
   "cell_type": "code",
   "execution_count": 6,
   "metadata": {},
   "outputs": [
    {
     "name": "stdout",
     "output_type": "stream",
     "text": [
      "      Iter       Train Loss   Remaining Time \n",
      "         1           1.2095           10.45s\n",
      "         2           1.1006           10.54s\n",
      "         3           1.0240            9.71s\n",
      "         4           0.9729            9.16s\n",
      "         5           0.9387            9.01s\n",
      "         6           0.8948            9.15s\n",
      "         7           0.8621            9.64s\n",
      "         8           0.8360            9.82s\n",
      "         9           0.8171           10.01s\n",
      "        10           0.7883           10.80s\n",
      "        20           0.6029           10.22s\n",
      "        30           0.4760            9.22s\n",
      "        40           0.3879            8.86s\n",
      "        50           0.3325            8.26s\n",
      "        60           0.2759            7.68s\n",
      "        70           0.2304            7.20s\n",
      "        80           0.1969            6.92s\n",
      "        90           0.1718            6.57s\n",
      "       100           0.1404            6.18s\n",
      "       200           0.0358            2.12s\n"
     ]
    },
    {
     "data": {
      "text/plain": [
       "[<matplotlib.lines.Line2D at 0x17153e3df48>]"
      ]
     },
     "execution_count": 6,
     "metadata": {},
     "output_type": "execute_result"
    },
    {
     "data": {
      "image/png": "[encoded data removed]",
      "text/plain": [
       "<Figure size 432x288 with 1 Axes>"
      ]
     },
     "metadata": {
      "needs_background": "light"
     },
     "output_type": "display_data"
    }
   ],
   "source": [
    "clf = GradientBoostingClassifier(n_estimators=250,verbose=True, random_state=241,learning_rate=0.3).fit(X_train, y_train)\n",
    "clf.score(X_test, y_test)\n",
    "\n",
    "loss = []\n",
    "for y_pred in clf.staged_decision_function(X_train):\n",
    "    loss.append(log_loss(y_train, 1.0 / (1.0 + np.exp(-y_pred))))\n",
    "min_iter = np.argmin(loss)\n",
    "min_loss = loss[min_iter]\n",
    "\n",
    "loss_test = []\n",
    "for y_pred in clf.staged_decision_function(X_test):\n",
    "    loss_test.append(log_loss(y_test, 1.0 / (1.0 + np.exp(-y_pred))))\n",
    "min_iter_test = np.argmin(loss_test)\n",
    "min_loss_test = loss_test[min_iter]\n",
    "best.append([min(loss_test),min_iter_test])\n",
    "\n",
    "plt.figure()\n",
    "plt.grid()\n",
    "plt.plot(loss)  \n",
    "plt.plot(loss_test)  "
   ]
  },
  {
   "cell_type": "code",
   "execution_count": 7,
   "metadata": {},
   "outputs": [
    {
     "name": "stdout",
     "output_type": "stream",
     "text": [
      "      Iter       Train Loss   Remaining Time \n",
      "         1           1.2613           10.20s\n",
      "         2           1.1715            9.42s\n",
      "         3           1.1009            9.79s\n",
      "         4           1.0529           10.02s\n",
      "         5           1.0130           10.19s\n",
      "         6           0.9740           10.16s\n",
      "         7           0.9475           10.38s\n",
      "         8           0.9197           10.34s\n",
      "         9           0.8979           10.33s\n",
      "        10           0.8730           10.27s\n",
      "        20           0.7207           10.15s\n",
      "        30           0.6055            9.90s\n",
      "        40           0.5244            9.62s\n",
      "        50           0.4501            8.92s\n",
      "        60           0.3908            8.45s\n",
      "        70           0.3372            7.86s\n",
      "        80           0.3009            7.35s\n",
      "        90           0.2603            6.96s\n",
      "       100           0.2327            6.41s\n",
      "       200           0.0835            2.16s\n"
     ]
    },
    {
     "data": {
      "text/plain": [
       "[<matplotlib.lines.Line2D at 0x1715394c508>]"
      ]
     },
     "execution_count": 7,
     "metadata": {},
     "output_type": "execute_result"
    },
    {
     "data": {
      "image/png": "[encoded data removed]",
      "text/plain": [
       "<Figure size 432x288 with 1 Axes>"
      ]
     },
     "metadata": {
      "needs_background": "light"
     },
     "output_type": "display_data"
    }
   ],
   "source": [
    "clf = GradientBoostingClassifier(n_estimators=250,verbose=True, random_state=241,learning_rate=0.2).fit(X_train, y_train)\n",
    "clf.score(X_test, y_test)\n",
    "\n",
    "loss = []\n",
    "for y_pred in clf.staged_decision_function(X_train):\n",
    "    loss.append(log_loss(y_train, 1.0 / (1.0 + np.exp(-y_pred))))\n",
    "min_iter = np.argmin(loss)\n",
    "min_loss = loss[min_iter]\n",
    "\n",
    "loss_test = []\n",
    "for y_pred in clf.staged_decision_function(X_test):\n",
    "    loss_test.append(log_loss(y_test, 1.0 / (1.0 + np.exp(-y_pred))))\n",
    "min_iter_test = np.argmin(loss_test)\n",
    "min_loss_test = loss_test[min_iter]\n",
    "best.append([min(loss_test),min_iter_test])\n",
    "\n",
    "plt.figure()\n",
    "plt.grid()\n",
    "plt.plot(loss)  \n",
    "plt.plot(loss_test)  "
   ]
  },
  {
   "cell_type": "code",
   "execution_count": 8,
   "metadata": {},
   "outputs": [
    {
     "data": {
      "text/plain": [
       "0.5301645204906471"
      ]
     },
     "execution_count": 8,
     "metadata": {},
     "output_type": "execute_result"
    }
   ],
   "source": [
    "min(loss_test) # минимальное значение log-loss на тестовой выборке иномер итерации, на котором оно достигается, при learning_rate =0.2"
   ]
  },
  {
   "cell_type": "code",
   "execution_count": 9,
   "metadata": {},
   "outputs": [
    {
     "data": {
      "text/plain": [
       "36"
      ]
     },
     "execution_count": 9,
     "metadata": {},
     "output_type": "execute_result"
    }
   ],
   "source": [
    "min_iter_test"
   ]
  },
  {
   "cell_type": "code",
   "execution_count": 10,
   "metadata": {},
   "outputs": [
    {
     "name": "stdout",
     "output_type": "stream",
     "text": [
      "      Iter       Train Loss   Remaining Time \n",
      "         1           1.3199           10.21s\n",
      "         2           1.2645            9.05s\n",
      "         3           1.2170            8.64s\n",
      "         4           1.1775            8.43s\n",
      "         5           1.1404            8.33s\n",
      "         6           1.1106            8.46s\n",
      "         7           1.0844            9.34s\n",
      "         8           1.0617           10.30s\n",
      "         9           1.0411           11.50s\n",
      "        10           1.0223           11.89s\n",
      "        20           0.8864           10.27s\n",
      "        30           0.7844           10.02s\n",
      "        40           0.7176            9.86s\n",
      "        50           0.6590            9.37s\n",
      "        60           0.6120            8.90s\n",
      "        70           0.5599            8.21s\n",
      "        80           0.5242            7.75s\n",
      "        90           0.4829            7.24s\n",
      "       100           0.4473            6.68s\n",
      "       200           0.2379            2.11s\n"
     ]
    },
    {
     "data": {
      "text/plain": [
       "[<matplotlib.lines.Line2D at 0x171539b5ac8>]"
      ]
     },
     "execution_count": 10,
     "metadata": {},
     "output_type": "execute_result"
    },
    {
     "data": {
      "image/png": "[encoded data removed]",
      "text/plain": [
       "<Figure size 432x288 with 1 Axes>"
      ]
     },
     "metadata": {
      "needs_background": "light"
     },
     "output_type": "display_data"
    }
   ],
   "source": [
    "clf = GradientBoostingClassifier(n_estimators=250,verbose=True, random_state=241,learning_rate=0.1).fit(X_train, y_train)\n",
    "clf.score(X_test, y_test)\n",
    "\n",
    "loss = []\n",
    "for y_pred in clf.staged_decision_function(X_train):\n",
    "    loss.append(log_loss(y_train, 1.0 / (1.0 + np.exp(-y_pred))))\n",
    "min_iter = np.argmin(loss)\n",
    "min_loss = loss[min_iter]\n",
    "\n",
    "loss_test = []\n",
    "for y_pred in clf.staged_decision_function(X_test):\n",
    "    loss_test.append(log_loss(y_test, 1.0 / (1.0 + np.exp(-y_pred))))\n",
    "min_iter_test = np.argmin(loss_test)\n",
    "min_loss_test = loss_test[min_iter]\n",
    "best.append([min(loss_test),min_iter_test])\n",
    "\n",
    "plt.figure()\n",
    "plt.grid()\n",
    "plt.plot(loss)  \n",
    "plt.plot(loss_test)  "
   ]
  },
  {
   "cell_type": "code",
   "execution_count": 14,
   "metadata": {},
   "outputs": [
    {
     "data": {
      "text/plain": [
       "'overfitting'"
      ]
     },
     "execution_count": 14,
     "metadata": {},
     "output_type": "execute_result"
    }
   ],
   "source": [
    "'overfitting'"
   ]
  },
  {
   "cell_type": "code",
   "execution_count": 16,
   "metadata": {},
   "outputs": [
    {
     "data": {
      "text/plain": [
       "[[0.5822942594278475, 0],\n",
       " [0.5584259973942154, 6],\n",
       " [0.5432835808866866, 10],\n",
       " [0.5301645204906471, 36],\n",
       " [0.5259049090698129, 51]]"
      ]
     },
     "execution_count": 16,
     "metadata": {},
     "output_type": "execute_result"
    }
   ],
   "source": [
    "best"
   ]
  },
  {
   "cell_type": "code",
   "execution_count": 18,
   "metadata": {},
   "outputs": [
    {
     "data": {
      "text/plain": [
       "0.54"
      ]
     },
     "execution_count": 18,
     "metadata": {},
     "output_type": "execute_result"
    }
   ],
   "source": [
    "clf = RandomForestClassifier(n_estimators=51, random_state=241).fit(X_train, y_train)\n",
    "round(log_loss(y_test,clf.predict_proba(X_test)),2)"
   ]
  },
  {
   "cell_type": "code",
   "execution_count": null,
   "metadata": {},
   "outputs": [],
   "source": []
  }
 ],
 "metadata": {
  "kernelspec": {
   "display_name": "Python 3",
   "language": "python",
   "name": "python3"
  },
  "language_info": {
   "codemirror_mode": {
    "name": "ipython",
    "version": 3
   },
   "file_extension": ".py",
   "mimetype": "text/x-python",
   "name": "python",
   "nbconvert_exporter": "python",
   "pygments_lexer": "ipython3",
   "version": "3.7.6"
  }
 },
 "nbformat": 4,
 "nbformat_minor": 4
}
