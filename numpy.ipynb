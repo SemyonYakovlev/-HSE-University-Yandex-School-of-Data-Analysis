{
 "cells": [
  {
   "cell_type": "markdown",
   "metadata": {},
   "source": [
    "NUMPY"
   ]
  },
  {
   "cell_type": "code",
   "execution_count": 1,
   "metadata": {},
   "outputs": [],
   "source": [
    "import numpy as np"
   ]
  },
  {
   "cell_type": "code",
   "execution_count": 3,
   "metadata": {},
   "outputs": [
    {
     "name": "stdout",
     "output_type": "stream",
     "text": [
      "[[ -8.31667933  -4.91001728   3.37963191 ...  -5.23847617  11.33977351\n",
      "    6.2737121 ]\n",
      " [  9.07971142  -0.62660788   6.33077989 ...   5.33433636 -15.44876162\n",
      "   -0.04771155]\n",
      " [ -8.21055008 -20.56285715  15.7847666  ...  -0.8900758   11.69187988\n",
      "    3.60587876]\n",
      " ...\n",
      " [  7.93209393  -0.50434449   0.0626752  ... -20.84617074  -6.42642069\n",
      "   -1.5276249 ]\n",
      " [ 12.01761706 -12.1983883    0.08810498 ...   2.86438669  -4.74829467\n",
      "    3.12876585]\n",
      " [  3.49932686 -10.79309621  -5.05207797 ... -11.6586579   -1.06575195\n",
      "   -0.4457783 ]]\n"
     ]
    }
   ],
   "source": [
    "X = np.random.normal(loc=1, scale=10, size=(1000, 50))\n",
    "print(X)"
   ]
  },
  {
   "cell_type": "code",
   "execution_count": 4,
   "metadata": {},
   "outputs": [
    {
     "name": "stdout",
     "output_type": "stream",
     "text": [
      "[[-0.90659866 -0.56242098  0.26350976 ... -0.65893178  0.98053291\n",
      "   0.47703538]\n",
      " [ 0.78867394 -0.12859674  0.55930522 ...  0.40364888 -1.59408825\n",
      "  -0.165717  ]\n",
      " [-0.8962564  -2.14774253  1.50688439 ... -0.2219122   1.01437353\n",
      "   0.2057743 ]\n",
      " ...\n",
      " [ 0.67683899 -0.11621389 -0.06895095 ... -2.22752426 -0.72695947\n",
      "  -0.31619225]\n",
      " [ 1.07497189 -1.30058809 -0.0664021  ...  0.1554159  -0.56567634\n",
      "   0.15726221]\n",
      " [ 0.24486729 -1.15825993 -0.58160595 ... -1.30416793 -0.21175059\n",
      "  -0.2061918 ]]\n"
     ]
    }
   ],
   "source": [
    "m = np.mean(X, axis=0)\n",
    "std = np.std(X, axis=0)\n",
    "X_norm = ((X - m)  / std)\n",
    "print(X_norm)"
   ]
  },
  {
   "cell_type": "code",
   "execution_count": 5,
   "metadata": {},
   "outputs": [],
   "source": [
    "Z = np.array([[4, 5, 0], \n",
    "             [1, 9, 3],              \n",
    "             [5, 1, 1],\n",
    "             [3, 3, 3], \n",
    "             [9, 9, 9], \n",
    "             [4, 7, 1]])"
   ]
  },
  {
   "cell_type": "code",
   "execution_count": 9,
   "metadata": {},
   "outputs": [
    {
     "name": "stdout",
     "output_type": "stream",
     "text": [
      "(array([1, 4, 5], dtype=int64),)\n"
     ]
    }
   ],
   "source": [
    "r = np.sum(Z, axis=1)\n",
    "print(np.nonzero(r > 10))"
   ]
  },
  {
   "cell_type": "code",
   "execution_count": 11,
   "metadata": {},
   "outputs": [
    {
     "name": "stdout",
     "output_type": "stream",
     "text": [
      "[[1. 0. 0.]\n",
      " [0. 1. 0.]\n",
      " [0. 0. 1.]]\n",
      "[[1. 0. 0.]\n",
      " [0. 1. 0.]\n",
      " [0. 0. 1.]]\n"
     ]
    }
   ],
   "source": [
    "A = np.eye(3)\n",
    "B = np.eye(3)\n",
    "print(A)\n",
    "print(B)"
   ]
  },
  {
   "cell_type": "code",
   "execution_count": 12,
   "metadata": {},
   "outputs": [
    {
     "name": "stdout",
     "output_type": "stream",
     "text": [
      "[[1. 0. 0.]\n",
      " [0. 1. 0.]\n",
      " [0. 0. 1.]\n",
      " [1. 0. 0.]\n",
      " [0. 1. 0.]\n",
      " [0. 0. 1.]]\n"
     ]
    }
   ],
   "source": [
    "AB = np.vstack((A, B))\n",
    "print(AB)"
   ]
  },
  {
   "cell_type": "markdown",
   "metadata": {},
   "source": [
    "PANDAS"
   ]
  },
  {
   "cell_type": "code",
   "execution_count": 17,
   "metadata": {},
   "outputs": [
    {
     "data": {
      "text/html": [
       "<div>\n",
       "<style scoped>\n",
       "    .dataframe tbody tr th:only-of-type {\n",
       "        vertical-align: middle;\n",
       "    }\n",
       "\n",
       "    .dataframe tbody tr th {\n",
       "        vertical-align: top;\n",
       "    }\n",
       "\n",
       "    .dataframe thead th {\n",
       "        text-align: right;\n",
       "    }\n",
       "</style>\n",
       "<table border=\"1\" class=\"dataframe\">\n",
       "  <thead>\n",
       "    <tr style=\"text-align: right;\">\n",
       "      <th></th>\n",
       "      <th>Survived</th>\n",
       "      <th>Pclass</th>\n",
       "      <th>Name</th>\n",
       "      <th>Sex</th>\n",
       "      <th>Age</th>\n",
       "      <th>SibSp</th>\n",
       "      <th>Parch</th>\n",
       "      <th>Ticket</th>\n",
       "      <th>Fare</th>\n",
       "      <th>Cabin</th>\n",
       "      <th>Embarked</th>\n",
       "    </tr>\n",
       "    <tr>\n",
       "      <th>PassengerId</th>\n",
       "      <th></th>\n",
       "      <th></th>\n",
       "      <th></th>\n",
       "      <th></th>\n",
       "      <th></th>\n",
       "      <th></th>\n",
       "      <th></th>\n",
       "      <th></th>\n",
       "      <th></th>\n",
       "      <th></th>\n",
       "      <th></th>\n",
       "    </tr>\n",
       "  </thead>\n",
       "  <tbody>\n",
       "    <tr>\n",
       "      <th>1</th>\n",
       "      <td>0</td>\n",
       "      <td>3</td>\n",
       "      <td>Braund, Mr. Owen Harris</td>\n",
       "      <td>male</td>\n",
       "      <td>22.0</td>\n",
       "      <td>1</td>\n",
       "      <td>0</td>\n",
       "      <td>A/5 21171</td>\n",
       "      <td>7.2500</td>\n",
       "      <td>NaN</td>\n",
       "      <td>S</td>\n",
       "    </tr>\n",
       "    <tr>\n",
       "      <th>2</th>\n",
       "      <td>1</td>\n",
       "      <td>1</td>\n",
       "      <td>Cumings, Mrs. John Bradley (Florence Briggs Th...</td>\n",
       "      <td>female</td>\n",
       "      <td>38.0</td>\n",
       "      <td>1</td>\n",
       "      <td>0</td>\n",
       "      <td>PC 17599</td>\n",
       "      <td>71.2833</td>\n",
       "      <td>C85</td>\n",
       "      <td>C</td>\n",
       "    </tr>\n",
       "    <tr>\n",
       "      <th>3</th>\n",
       "      <td>1</td>\n",
       "      <td>3</td>\n",
       "      <td>Heikkinen, Miss. Laina</td>\n",
       "      <td>female</td>\n",
       "      <td>26.0</td>\n",
       "      <td>0</td>\n",
       "      <td>0</td>\n",
       "      <td>STON/O2. 3101282</td>\n",
       "      <td>7.9250</td>\n",
       "      <td>NaN</td>\n",
       "      <td>S</td>\n",
       "    </tr>\n",
       "    <tr>\n",
       "      <th>4</th>\n",
       "      <td>1</td>\n",
       "      <td>1</td>\n",
       "      <td>Futrelle, Mrs. Jacques Heath (Lily May Peel)</td>\n",
       "      <td>female</td>\n",
       "      <td>35.0</td>\n",
       "      <td>1</td>\n",
       "      <td>0</td>\n",
       "      <td>113803</td>\n",
       "      <td>53.1000</td>\n",
       "      <td>C123</td>\n",
       "      <td>S</td>\n",
       "    </tr>\n",
       "    <tr>\n",
       "      <th>5</th>\n",
       "      <td>0</td>\n",
       "      <td>3</td>\n",
       "      <td>Allen, Mr. William Henry</td>\n",
       "      <td>male</td>\n",
       "      <td>35.0</td>\n",
       "      <td>0</td>\n",
       "      <td>0</td>\n",
       "      <td>373450</td>\n",
       "      <td>8.0500</td>\n",
       "      <td>NaN</td>\n",
       "      <td>S</td>\n",
       "    </tr>\n",
       "  </tbody>\n",
       "</table>\n",
       "</div>"
      ],
      "text/plain": [
       "             Survived  Pclass  \\\n",
       "PassengerId                     \n",
       "1                   0       3   \n",
       "2                   1       1   \n",
       "3                   1       3   \n",
       "4                   1       1   \n",
       "5                   0       3   \n",
       "\n",
       "                                                          Name     Sex   Age  \\\n",
       "PassengerId                                                                    \n",
       "1                                      Braund, Mr. Owen Harris    male  22.0   \n",
       "2            Cumings, Mrs. John Bradley (Florence Briggs Th...  female  38.0   \n",
       "3                                       Heikkinen, Miss. Laina  female  26.0   \n",
       "4                 Futrelle, Mrs. Jacques Heath (Lily May Peel)  female  35.0   \n",
       "5                                     Allen, Mr. William Henry    male  35.0   \n",
       "\n",
       "             SibSp  Parch            Ticket     Fare Cabin Embarked  \n",
       "PassengerId                                                          \n",
       "1                1      0         A/5 21171   7.2500   NaN        S  \n",
       "2                1      0          PC 17599  71.2833   C85        C  \n",
       "3                0      0  STON/O2. 3101282   7.9250   NaN        S  \n",
       "4                1      0            113803  53.1000  C123        S  \n",
       "5                0      0            373450   8.0500   NaN        S  "
      ]
     },
     "execution_count": 17,
     "metadata": {},
     "output_type": "execute_result"
    }
   ],
   "source": [
    "import pandas\n",
    "data = pandas.read_csv('titanic.csv', index_col='PassengerId')\n",
    "data.head()"
   ]
  },
  {
   "cell_type": "code",
   "execution_count": 18,
   "metadata": {},
   "outputs": [
    {
     "data": {
      "text/plain": [
       "PassengerId\n",
       "1      3\n",
       "2      1\n",
       "3      3\n",
       "4      1\n",
       "5      3\n",
       "      ..\n",
       "887    2\n",
       "888    1\n",
       "889    3\n",
       "890    1\n",
       "891    3\n",
       "Name: Pclass, Length: 891, dtype: int64"
      ]
     },
     "execution_count": 18,
     "metadata": {},
     "output_type": "execute_result"
    }
   ],
   "source": [
    "data['Pclass']"
   ]
  },
  {
   "cell_type": "code",
   "execution_count": 19,
   "metadata": {},
   "outputs": [
    {
     "data": {
      "text/plain": [
       "3    491\n",
       "1    216\n",
       "2    184\n",
       "Name: Pclass, dtype: int64"
      ]
     },
     "execution_count": 19,
     "metadata": {},
     "output_type": "execute_result"
    }
   ],
   "source": [
    "data['Pclass'].value_counts()"
   ]
  },
  {
   "cell_type": "markdown",
   "metadata": {},
   "source": [
    "Задание №1\n",
    "Какое количество мужчин и женщин ехало на корабле? В качестве ответа приведите два числа через пробел."
   ]
  },
  {
   "cell_type": "code",
   "execution_count": 24,
   "metadata": {},
   "outputs": [
    {
     "data": {
      "text/plain": [
       "male      577\n",
       "female    314\n",
       "Name: Sex, dtype: int64"
      ]
     },
     "execution_count": 24,
     "metadata": {},
     "output_type": "execute_result"
    }
   ],
   "source": [
    "data['Sex'].value_counts()"
   ]
  },
  {
   "cell_type": "markdown",
   "metadata": {},
   "source": [
    "Задание №2 Какой части пассажиров удалось выжить? Посчитайте долю выживших пассажиров. Ответ приведите в процентах (число в интервале от 0 до 100, знак процента не нужен), округлив до двух знаков."
   ]
  },
  {
   "cell_type": "code",
   "execution_count": 48,
   "metadata": {},
   "outputs": [
    {
     "data": {
      "text/plain": [
       "38.38"
      ]
     },
     "execution_count": 48,
     "metadata": {},
     "output_type": "execute_result"
    }
   ],
   "source": [
    "round(data['Survived'].value_counts()[1]/len(data['Survived'])*100,2)"
   ]
  },
  {
   "cell_type": "markdown",
   "metadata": {},
   "source": [
    "Задание №3 Какую долю пассажиры первого класса составляли среди всех пассажиров? Ответ приведите в процентах (число в интервале от 0 до 100, знак процента не нужен), округлив до двух знаков."
   ]
  },
  {
   "cell_type": "code",
   "execution_count": 46,
   "metadata": {},
   "outputs": [
    {
     "data": {
      "text/plain": [
       "24.24"
      ]
     },
     "execution_count": 46,
     "metadata": {},
     "output_type": "execute_result"
    }
   ],
   "source": [
    "round((data['Pclass']==1).sum()/len(data)*100,2)"
   ]
  },
  {
   "cell_type": "markdown",
   "metadata": {},
   "source": [
    "Задание №4 Какого возраста были пассажиры? Посчитайте среднее и медиану возраста пассажиров. В качестве ответа приведите два числа через пробел."
   ]
  },
  {
   "cell_type": "code",
   "execution_count": 51,
   "metadata": {},
   "outputs": [
    {
     "data": {
      "text/plain": [
       "29.69911764705882"
      ]
     },
     "execution_count": 51,
     "metadata": {},
     "output_type": "execute_result"
    }
   ],
   "source": [
    "data['Age'].mean()"
   ]
  },
  {
   "cell_type": "code",
   "execution_count": 52,
   "metadata": {},
   "outputs": [
    {
     "data": {
      "text/plain": [
       "28.0"
      ]
     },
     "execution_count": 52,
     "metadata": {},
     "output_type": "execute_result"
    }
   ],
   "source": [
    "data['Age'].median()"
   ]
  },
  {
   "cell_type": "markdown",
   "metadata": {},
   "source": [
    "Задание №5 Коррелируют ли число братьев/сестер/супругов с числом родителей/детей? Посчитайте корреляцию Пирсона между признаками SibSp и Parch."
   ]
  },
  {
   "cell_type": "code",
   "execution_count": 75,
   "metadata": {},
   "outputs": [
    {
     "data": {
      "text/plain": [
       "0.41"
      ]
     },
     "execution_count": 75,
     "metadata": {},
     "output_type": "execute_result"
    }
   ],
   "source": [
    "from scipy import stats\n",
    "round(stats.pearsonr(data['SibSp'].values,data['Parch'].values)[0],2)"
   ]
  },
  {
   "cell_type": "markdown",
   "metadata": {},
   "source": [
    "Задание №6 Какое самое популярное женское имя на корабле? Извлеките из полного имени пассажира (колонка Name) его личное имя (First Name). Это задание — типичный пример того, с чем сталкивается специалист по анализу данных. Данные очень разнородные и шумные, но из них требуется извлечь необходимую информацию. Попробуйте вручную разобрать несколько значений столбца Name и выработать правило для извлечения имен, а также разделения их на женские и мужские."
   ]
  },
  {
   "cell_type": "code",
   "execution_count": 83,
   "metadata": {},
   "outputs": [
    {
     "data": {
      "text/html": [
       "<div>\n",
       "<style scoped>\n",
       "    .dataframe tbody tr th:only-of-type {\n",
       "        vertical-align: middle;\n",
       "    }\n",
       "\n",
       "    .dataframe tbody tr th {\n",
       "        vertical-align: top;\n",
       "    }\n",
       "\n",
       "    .dataframe thead th {\n",
       "        text-align: right;\n",
       "    }\n",
       "</style>\n",
       "<table border=\"1\" class=\"dataframe\">\n",
       "  <thead>\n",
       "    <tr style=\"text-align: right;\">\n",
       "      <th></th>\n",
       "      <th>PassengerId</th>\n",
       "      <th>Survived</th>\n",
       "      <th>Pclass</th>\n",
       "      <th>Name</th>\n",
       "      <th>Sex</th>\n",
       "      <th>Age</th>\n",
       "      <th>SibSp</th>\n",
       "      <th>Parch</th>\n",
       "      <th>Ticket</th>\n",
       "      <th>Fare</th>\n",
       "      <th>Cabin</th>\n",
       "      <th>Embarked</th>\n",
       "    </tr>\n",
       "  </thead>\n",
       "  <tbody>\n",
       "    <tr>\n",
       "      <th>0</th>\n",
       "      <td>2</td>\n",
       "      <td>1</td>\n",
       "      <td>1</td>\n",
       "      <td>Cumings, Mrs. John Bradley (Florence Briggs Th...</td>\n",
       "      <td>female</td>\n",
       "      <td>38.0</td>\n",
       "      <td>1</td>\n",
       "      <td>0</td>\n",
       "      <td>PC 17599</td>\n",
       "      <td>71.2833</td>\n",
       "      <td>C85</td>\n",
       "      <td>C</td>\n",
       "    </tr>\n",
       "    <tr>\n",
       "      <th>1</th>\n",
       "      <td>3</td>\n",
       "      <td>1</td>\n",
       "      <td>3</td>\n",
       "      <td>Heikkinen, Miss. Laina</td>\n",
       "      <td>female</td>\n",
       "      <td>26.0</td>\n",
       "      <td>0</td>\n",
       "      <td>0</td>\n",
       "      <td>STON/O2. 3101282</td>\n",
       "      <td>7.9250</td>\n",
       "      <td>NaN</td>\n",
       "      <td>S</td>\n",
       "    </tr>\n",
       "    <tr>\n",
       "      <th>2</th>\n",
       "      <td>4</td>\n",
       "      <td>1</td>\n",
       "      <td>1</td>\n",
       "      <td>Futrelle, Mrs. Jacques Heath (Lily May Peel)</td>\n",
       "      <td>female</td>\n",
       "      <td>35.0</td>\n",
       "      <td>1</td>\n",
       "      <td>0</td>\n",
       "      <td>113803</td>\n",
       "      <td>53.1000</td>\n",
       "      <td>C123</td>\n",
       "      <td>S</td>\n",
       "    </tr>\n",
       "    <tr>\n",
       "      <th>3</th>\n",
       "      <td>9</td>\n",
       "      <td>1</td>\n",
       "      <td>3</td>\n",
       "      <td>Johnson, Mrs. Oscar W (Elisabeth Vilhelmina Berg)</td>\n",
       "      <td>female</td>\n",
       "      <td>27.0</td>\n",
       "      <td>0</td>\n",
       "      <td>2</td>\n",
       "      <td>347742</td>\n",
       "      <td>11.1333</td>\n",
       "      <td>NaN</td>\n",
       "      <td>S</td>\n",
       "    </tr>\n",
       "    <tr>\n",
       "      <th>4</th>\n",
       "      <td>10</td>\n",
       "      <td>1</td>\n",
       "      <td>2</td>\n",
       "      <td>Nasser, Mrs. Nicholas (Adele Achem)</td>\n",
       "      <td>female</td>\n",
       "      <td>14.0</td>\n",
       "      <td>1</td>\n",
       "      <td>0</td>\n",
       "      <td>237736</td>\n",
       "      <td>30.0708</td>\n",
       "      <td>NaN</td>\n",
       "      <td>C</td>\n",
       "    </tr>\n",
       "    <tr>\n",
       "      <th>...</th>\n",
       "      <td>...</td>\n",
       "      <td>...</td>\n",
       "      <td>...</td>\n",
       "      <td>...</td>\n",
       "      <td>...</td>\n",
       "      <td>...</td>\n",
       "      <td>...</td>\n",
       "      <td>...</td>\n",
       "      <td>...</td>\n",
       "      <td>...</td>\n",
       "      <td>...</td>\n",
       "      <td>...</td>\n",
       "    </tr>\n",
       "    <tr>\n",
       "      <th>309</th>\n",
       "      <td>881</td>\n",
       "      <td>1</td>\n",
       "      <td>2</td>\n",
       "      <td>Shelley, Mrs. William (Imanita Parrish Hall)</td>\n",
       "      <td>female</td>\n",
       "      <td>25.0</td>\n",
       "      <td>0</td>\n",
       "      <td>1</td>\n",
       "      <td>230433</td>\n",
       "      <td>26.0000</td>\n",
       "      <td>NaN</td>\n",
       "      <td>S</td>\n",
       "    </tr>\n",
       "    <tr>\n",
       "      <th>310</th>\n",
       "      <td>883</td>\n",
       "      <td>0</td>\n",
       "      <td>3</td>\n",
       "      <td>Dahlberg, Miss. Gerda Ulrika</td>\n",
       "      <td>female</td>\n",
       "      <td>22.0</td>\n",
       "      <td>0</td>\n",
       "      <td>0</td>\n",
       "      <td>7552</td>\n",
       "      <td>10.5167</td>\n",
       "      <td>NaN</td>\n",
       "      <td>S</td>\n",
       "    </tr>\n",
       "    <tr>\n",
       "      <th>311</th>\n",
       "      <td>886</td>\n",
       "      <td>0</td>\n",
       "      <td>3</td>\n",
       "      <td>Rice, Mrs. William (Margaret Norton)</td>\n",
       "      <td>female</td>\n",
       "      <td>39.0</td>\n",
       "      <td>0</td>\n",
       "      <td>5</td>\n",
       "      <td>382652</td>\n",
       "      <td>29.1250</td>\n",
       "      <td>NaN</td>\n",
       "      <td>Q</td>\n",
       "    </tr>\n",
       "    <tr>\n",
       "      <th>312</th>\n",
       "      <td>888</td>\n",
       "      <td>1</td>\n",
       "      <td>1</td>\n",
       "      <td>Graham, Miss. Margaret Edith</td>\n",
       "      <td>female</td>\n",
       "      <td>19.0</td>\n",
       "      <td>0</td>\n",
       "      <td>0</td>\n",
       "      <td>112053</td>\n",
       "      <td>30.0000</td>\n",
       "      <td>B42</td>\n",
       "      <td>S</td>\n",
       "    </tr>\n",
       "    <tr>\n",
       "      <th>313</th>\n",
       "      <td>889</td>\n",
       "      <td>0</td>\n",
       "      <td>3</td>\n",
       "      <td>Johnston, Miss. Catherine Helen \"Carrie\"</td>\n",
       "      <td>female</td>\n",
       "      <td>NaN</td>\n",
       "      <td>1</td>\n",
       "      <td>2</td>\n",
       "      <td>W./C. 6607</td>\n",
       "      <td>23.4500</td>\n",
       "      <td>NaN</td>\n",
       "      <td>S</td>\n",
       "    </tr>\n",
       "  </tbody>\n",
       "</table>\n",
       "<p>314 rows × 12 columns</p>\n",
       "</div>"
      ],
      "text/plain": [
       "     PassengerId  Survived  Pclass  \\\n",
       "0              2         1       1   \n",
       "1              3         1       3   \n",
       "2              4         1       1   \n",
       "3              9         1       3   \n",
       "4             10         1       2   \n",
       "..           ...       ...     ...   \n",
       "309          881         1       2   \n",
       "310          883         0       3   \n",
       "311          886         0       3   \n",
       "312          888         1       1   \n",
       "313          889         0       3   \n",
       "\n",
       "                                                  Name     Sex   Age  SibSp  \\\n",
       "0    Cumings, Mrs. John Bradley (Florence Briggs Th...  female  38.0      1   \n",
       "1                               Heikkinen, Miss. Laina  female  26.0      0   \n",
       "2         Futrelle, Mrs. Jacques Heath (Lily May Peel)  female  35.0      1   \n",
       "3    Johnson, Mrs. Oscar W (Elisabeth Vilhelmina Berg)  female  27.0      0   \n",
       "4                  Nasser, Mrs. Nicholas (Adele Achem)  female  14.0      1   \n",
       "..                                                 ...     ...   ...    ...   \n",
       "309       Shelley, Mrs. William (Imanita Parrish Hall)  female  25.0      0   \n",
       "310                       Dahlberg, Miss. Gerda Ulrika  female  22.0      0   \n",
       "311               Rice, Mrs. William (Margaret Norton)  female  39.0      0   \n",
       "312                       Graham, Miss. Margaret Edith  female  19.0      0   \n",
       "313           Johnston, Miss. Catherine Helen \"Carrie\"  female   NaN      1   \n",
       "\n",
       "     Parch            Ticket     Fare Cabin Embarked  \n",
       "0        0          PC 17599  71.2833   C85        C  \n",
       "1        0  STON/O2. 3101282   7.9250   NaN        S  \n",
       "2        0            113803  53.1000  C123        S  \n",
       "3        2            347742  11.1333   NaN        S  \n",
       "4        0            237736  30.0708   NaN        C  \n",
       "..     ...               ...      ...   ...      ...  \n",
       "309      1            230433  26.0000   NaN        S  \n",
       "310      0              7552  10.5167   NaN        S  \n",
       "311      5            382652  29.1250   NaN        Q  \n",
       "312      0            112053  30.0000   B42        S  \n",
       "313      2        W./C. 6607  23.4500   NaN        S  \n",
       "\n",
       "[314 rows x 12 columns]"
      ]
     },
     "execution_count": 83,
     "metadata": {},
     "output_type": "execute_result"
    }
   ],
   "source": [
    "w_data = data[data['Sex']=='female'].reset_index()\n",
    "w_data"
   ]
  },
  {
   "cell_type": "code",
   "execution_count": 137,
   "metadata": {
    "scrolled": true
   },
   "outputs": [
    {
     "data": {
      "text/plain": [
       "Counter({' John Bradley (Florence Briggs Thayer)': 1,\n",
       "         ' Laina': 1,\n",
       "         ' Jacques Heath (Lily May Peel)': 1,\n",
       "         ' Oscar W (Elisabeth Vilhelmina Berg)': 1,\n",
       "         ' Nicholas (Adele Achem)': 1,\n",
       "         ' Marguerite Rut': 1,\n",
       "         ' Elizabeth': 2,\n",
       "         ' Hulda Amanda Adolfina': 1,\n",
       "         ' (Mary D Kingcome) ': 1,\n",
       "         ' Julius (Emelia Maria Vandemoortele)': 1,\n",
       "         ' Fatima': 1,\n",
       "         ' Anna \"Annie\"': 1,\n",
       "         ' Torborg Danira': 1,\n",
       "         ' Carl Oscar (Selma Augusta Emilia Johansson)': 1,\n",
       "         ' Ellen \"Nellie\"': 2,\n",
       "         ' William Augustus (Marie Eugenie)': 1,\n",
       "         ' Mary Agatha': 1,\n",
       "         ' Augusta Maria': 1,\n",
       "         ' Jamila': 1,\n",
       "         ' Johan (Johanna Persdotter Larsson)': 1,\n",
       "         ' William John Robert (Dorothy Ann Wonnacott)': 1,\n",
       "         ' Simonne Marie Anne Andree': 1,\n",
       "         ' Margaret Delia': 1,\n",
       "         ' Bridget': 1,\n",
       "         ' Josef (Josefine Franchi)': 1,\n",
       "         ' Henry Sleeper (Myna Haxtun)': 1,\n",
       "         ' Lizzie (Elizabeth Anne Wilkinson)': 1,\n",
       "         ' Emily': 1,\n",
       "         ' Constance Mirium': 1,\n",
       "         ' Amelie': 1,\n",
       "         ' (Elizabeth Ramell)': 1,\n",
       "         ' Erna Alexandra': 1,\n",
       "         ' Lillian Amy': 1,\n",
       "         ' Brigdet Delia': 1,\n",
       "         ' Bertha': 4,\n",
       "         ' Karl Alfred (Maria Mathilda Gustafsson)': 1,\n",
       "         ' Mabel Helen': 1,\n",
       "         ' John T (Ada Julia Bone)': 1,\n",
       "         ' Matilda': 1,\n",
       "         ' Anna Kristine': 1,\n",
       "         ' Hileni': 1,\n",
       "         ' Katriina': 1,\n",
       "         ' Malake': 1,\n",
       "         ' Ellis Anna Maria': 1,\n",
       "         ' Susan': 1,\n",
       "         ' Anna': 3,\n",
       "         ' Alexander A (Grace Charity Laury)': 1,\n",
       "         ' Leopold (Mathilde Francoise Pede)': 1,\n",
       "         ' Helen Monypeny': 1,\n",
       "         ' Joseph (Sultana)': 1,\n",
       "         ' Anna Sofia': 3,\n",
       "         ' Pekka Pietari (Elin Matilda Dolck)': 1,\n",
       "         ' Robina Maggie \"Ruby\"': 1,\n",
       "         ' Thomas (Edith Wearne)': 1,\n",
       "         ' Katherine \"Katie\"': 2,\n",
       "         ' James (Elizabeth \"Bessie\" Inglis Milne)': 1,\n",
       "         ' (Edith Martha Bowerman)': 1,\n",
       "         ' William (Anna Bernhardina Karlsson)': 1,\n",
       "         ' Eleanor Ileen': 1,\n",
       "         ' Ann Elizabeth': 1,\n",
       "         ' Constance Gladys': 1,\n",
       "         ' Luise Gretchen': 1,\n",
       "         ' Thomas (Johanna \"Hannah\" Godfrey)': 1,\n",
       "         ' (Rosa)': 1,\n",
       "         ' Carla Christine Nielsine': 1,\n",
       "         ' James Joseph (Margaret Tobin)': 1,\n",
       "         ' Elise': 1,\n",
       "         ' Margaret \"Maggie\"': 1,\n",
       "         ' Henriette (\"Mrs Harbeck\")': 1,\n",
       "         ' Telma Matilda': 1,\n",
       "         ' Helen \"Ellen\"': 1,\n",
       "         ' Clear Annie': 1,\n",
       "         ' Madeleine': 1,\n",
       "         ' Eliina': 1,\n",
       "         ' Albina': 1,\n",
       "         ' Mathilde': 1,\n",
       "         ' Henry Birkhardt (Irene Wallach)': 1,\n",
       "         ' Lillian Gertrud': 1,\n",
       "         ' Alice Phoebe': 1,\n",
       "         ' Marjorie \"Lottie\"': 1,\n",
       "         ' Thamine': 1,\n",
       "         ' Katherine \"Kate\"': 1,\n",
       "         ' Agda Thorilda Viktoria': 1,\n",
       "         ' William (Anna)': 1,\n",
       "         ' Wilhelm (Elna Matilda Persson)': 1,\n",
       "         ' Viktor (Helena Wilhelmina)': 1,\n",
       "         ' Darwis (Hanne Youssef Razi)': 1,\n",
       "         ' Gertrude Maybelle': 1,\n",
       "         ' Gladys': 1,\n",
       "         ' (Lutie Davis)': 1,\n",
       "         ' Delia': 1,\n",
       "         ' William Thompson (Edith Junkins)': 1,\n",
       "         ' Amelia': 1,\n",
       "         ' (Elizabeth Anne Maidment)': 1,\n",
       "         ' Hanora \"Nora\"': 2,\n",
       "         ' Kornelia Theodosia': 1,\n",
       "         ' Augusta Charlotta': 1,\n",
       "         ' Stanton (Rosa Hunt)': 1,\n",
       "         ' Kate': 2,\n",
       "         ' Dickinson H (Helen Walton)': 1,\n",
       "         ' Aloisia': 1,\n",
       "         ' Helen Loraine': 1,\n",
       "         ' James (Helene DeLaudeniere Chaput)': 1,\n",
       "         ' Anna Katherine \"Annie Kate\"': 1,\n",
       "         ' Nora A': 1,\n",
       "         ' Margaret': 1,\n",
       "         ' Victor de Satode (Maria Josefa Perez de Soto y Vallejo)': 1,\n",
       "         ' Laura Mabel': 1,\n",
       "         ' Margaret Bechstein': 1,\n",
       "         ' Emily Borie': 1,\n",
       "         ' William (Anna Sylfven)': 1,\n",
       "         ' Helmina Josefina': 1,\n",
       "         ' Sinai (Miriam Sternin)': 1,\n",
       "         ' Mary Natalie': 1,\n",
       "         ' Frederic Oakley (Margaretta Corning Stone)': 1,\n",
       "         ' Hilda Mary': 1,\n",
       "         ' Albert Francis (Sylvia Mae Harbaugh)': 1,\n",
       "         ' Marie Grice': 1,\n",
       "         ' (Ada E Hall)': 1,\n",
       "         ' Frank John (Emily Alice Brown)': 1,\n",
       "         ' Jean Gertrude': 1,\n",
       "         ' Agnes': 1,\n",
       "         ' Henry William (Clara Heinsheimer)': 1,\n",
       "         ' Elizabeth Margaret': 1,\n",
       "         ' Alice Elizabeth': 1,\n",
       "         ' Amelia \"Mildred\"': 1,\n",
       "         ' Marion Elsie': 1,\n",
       "         ' Thomas Henry (Mary E Finck)': 1,\n",
       "         ' Elsie Edith': 1,\n",
       "         ' Annie Clemmer': 1,\n",
       "         ' Mary': 6,\n",
       "         ' Helen Mary \"Ellie\"': 1,\n",
       "         ' (Catherine David)': 1,\n",
       "         ' Frank Manley (Anna Sophia Atkinson)': 1,\n",
       "         ' (Mantoura Boulos)': 1,\n",
       "         ' Annie': 1,\n",
       "         ' Leontine Pauline': 1,\n",
       "         ' Stina Viola': 1,\n",
       "         ' Edgar Joseph (Leila Saks)': 1,\n",
       "         ' Aurora Adelia': 1,\n",
       "         ' Rosalie': 1,\n",
       "         ' Maria (\"Mary\")': 1,\n",
       "         ' Alexander Oskar (Mary Aline Towner)': 1,\n",
       "         ' Marjorie': 1,\n",
       "         ' Hjalmar (Agnes Charlotta Bengtsson)': 1,\n",
       "         ' Elina': 1,\n",
       "         ' William H (Jessie L)': 1,\n",
       "         ' Mari Aina': 1,\n",
       "         ' Marija': 2,\n",
       "         ' Ida': 1,\n",
       "         ' Daisy E': 1,\n",
       "         ' Thomas (Annie Louise Rowley)': 1,\n",
       "         ' James Vivian (Lulu Thorne Christian)': 1,\n",
       "         ' Lyyli Karoliina': 1,\n",
       "         ' Catharina': 1,\n",
       "         ' Ernst Gilbert (Anna Sigrid Maria Brogren)': 1,\n",
       "         ' Charles V (Ada Maria Winfield)': 1,\n",
       "         ' Kate Florence (\"Mrs Kate Louise Phillips Marshall\")': 1,\n",
       "         ' Percival (Florence Kate White)': 1,\n",
       "         ' Charles Alexander (Alice Adelaide Slow)': 1,\n",
       "         ' Lucile Polk': 1,\n",
       "         ' Doolina Margaret \"Daisy\"': 1,\n",
       "         ' Sidney (Emily Hocking)': 1,\n",
       "         ' Benjamin (Esther Ada Bloomfield)': 1,\n",
       "         ' Encarnacion': 1,\n",
       "         ' Madeleine Violet': 1,\n",
       "         ' Marie Catherine': 1,\n",
       "         ' Frederick R (Marion)': 1,\n",
       "         ' Ellen': 1,\n",
       "         ' Helene Barbara': 1,\n",
       "         ' Edwy Arthur (Ada Mary Worth)': 1,\n",
       "         ' Amin S (Marie Marthe Thuillard)': 1,\n",
       "         ' Ida Sofia': 1,\n",
       "         ' Hildur E': 1,\n",
       "         ' (Hedwig)': 1,\n",
       "         ' Jeannie': 1,\n",
       "         ' Frederick Maxfield (Jane Anne Forby)': 1,\n",
       "         ' Elizabeth Mussey': 1,\n",
       "         ' Hudson J C (Bessie Waldo Daniels)': 1,\n",
       "         ' Bridget Mary': 1,\n",
       "         ' Kristina Sofia': 1,\n",
       "         ' Roberta': 1,\n",
       "         ' Frederick Charles (Jane Richards)': 1,\n",
       "         ' Barrett)': 1,\n",
       "         ' (Amelia Milley)': 1,\n",
       "         ' William A (Florence \"Mary\" Agnes Hughes)': 1,\n",
       "         ' Anne': 1,\n",
       "         ' Louis Albert (Ida Sophia Fischer)': 1,\n",
       "         ' Lucy': 1,\n",
       "         ' Phyllis May': 1,\n",
       "         ' Catherine (Catherine Rizk)': 1,\n",
       "         ' Eva Miriam': 1,\n",
       "         ' Hedwig Margaritha': 1,\n",
       "         ' Harriet R': 1,\n",
       "         ' Ingeborg Constanzia': 1,\n",
       "         ' Sigrid Elisabeth': 1,\n",
       "         ' Edward (Ethel Clarke)': 1,\n",
       "         ' Velin': 1,\n",
       "         ' (Lucille Christiana Sutherland) (\"Mrs Morgan\")': 1,\n",
       "         ' Emil (Tillie Mandelbaum)': 1,\n",
       "         ' Guillaume Joseph (Emma)': 1,\n",
       "         ' (Marion Ogden)': 1,\n",
       "         ' Nils (Alma Cornelia Berglund)': 1,\n",
       "         ' Edward Dale (Charlotte Lamson)': 1,\n",
       "         ' Ethel': 1,\n",
       "         ' William Baird (Alice Munger)': 1,\n",
       "         ' Joseph (Maria Elias)': 1,\n",
       "         ' Julie Rachel': 1,\n",
       "         ' John Borland (Marian Longstreth Morris)': 1,\n",
       "         ' Ruth': 1,\n",
       "         ' Walter Bertram (Martha Eustis)': 1,\n",
       "         ' Jessie Wills': 1,\n",
       "         ' Sidney Samuel (Amy Frances Christy)': 1,\n",
       "         ' Joseph (Juliette Marie Louise Lafargue)': 1,\n",
       "         ' Elizabeth W': 1,\n",
       "         ' Anders Johan (Alfrida Konstantia Brogren)': 1,\n",
       "         ' Margaret Jane': 1,\n",
       "         ' Alice': 2,\n",
       "         ' William Arthur (Cordelia K Stanlick)': 1,\n",
       "         ' Marion Louise': 1,\n",
       "         ' Gretchen Fiske': 1,\n",
       "         ' Mabel': 1,\n",
       "         ' Juha (Maria Emilia Ojala)': 1,\n",
       "         ' Emma': 1,\n",
       "         ' Margit Elizabeth': 1,\n",
       "         ' Eugenie': 1,\n",
       "         ' Amy Zillah Elsie': 1,\n",
       "         ' Elsie': 1,\n",
       "         ' Hanora \"Norah\"': 1,\n",
       "         ' John (Catherine)': 1,\n",
       "         ' Elmer Zebley (Juliet Cummins Wright)': 1,\n",
       "         ' Thomas William Solomon (Elizabeth Catherine Ford)': 1,\n",
       "         ' Frederick (Augusta Tyler)': 1,\n",
       "         ' Katie': 1,\n",
       "         ' Georgette Alexandra': 1,\n",
       "         ' Manca': 1,\n",
       "         ' John Jacob (Madeleine Talmadge Force)': 1,\n",
       "         ' Saiide': 1,\n",
       "         ' Florence \"Fannie\"': 1,\n",
       "         ' Berthe Antonine (\"Mrs de Villiers\")': 1,\n",
       "         ' Caroline Louise': 1,\n",
       "         ' Edwina Celia \"Winnie\"': 1,\n",
       "         ' Annie Jessie \"Nina\"': 1,\n",
       "         ' Peter Henry (Lillian Jefferys)': 1,\n",
       "         ' Margareth': 1,\n",
       "         ' Pieta Sofia': 1,\n",
       "         ' Elisabeth Walton': 1,\n",
       "         ' Edward (Margaret Ann Watson)': 1,\n",
       "         ' Susan Parker \"Suzette\"': 1,\n",
       "         ' Joan': 1,\n",
       "         ' Samuel (Jane Laver)': 1,\n",
       "         ' of (Lucy Noel Martha Dyer-Edwards)': 1,\n",
       "         ' William Ernest (Lucile Polk)': 1,\n",
       "         ' John C (Anna Andrews)': 1,\n",
       "         ' (Mary)': 1,\n",
       "         ' Elizabeth (Eliza Needs)': 1,\n",
       "         ' Virginia Ethel': 1,\n",
       "         ' Edward Scott (Elisabeth Walton McMillan)': 1,\n",
       "         ' Banoura': 1,\n",
       "         ' Albert Adrian (Vera Gillespie)': 1,\n",
       "         ' Stella Anna': 1,\n",
       "         ' Alice (Farnham)': 1,\n",
       "         ' Mara': 1,\n",
       "         ' Jean Baptiste (Rosalie Paula Govaert)': 1,\n",
       "         ' Harvey (Charlotte Annie Tate)': 1,\n",
       "         ' Ellen Natalia': 1,\n",
       "         ' Norman Campbell (Bertha Griggs)': 1,\n",
       "         ' Ebba Iris Alfrida': 1,\n",
       "         ' Wendla Maria': 1,\n",
       "         ' Charles Melville (Clara Jennings Gregg)': 1,\n",
       "         ' (Beila)': 1,\n",
       "         ' George Nelson (Martha Evelyn)': 1,\n",
       "         ' Antoni (Selini Alexander)': 1,\n",
       "         ' Sara Rebecca': 1,\n",
       "         ' Augusta': 1,\n",
       "         ' Samuel L (Edwiga Grabowska)': 1,\n",
       "         ' Nourelain': 1,\n",
       "         ' Mary Conover': 1,\n",
       "         ' Ernest Courtenay (Lilian Hughes)': 1,\n",
       "         ' Sam (Leah Rosen)': 1,\n",
       "         ' George Dennick (Mary Hitchcock)': 1,\n",
       "         ' Solomon (Latifa Qurban)': 1,\n",
       "         ' Frederick Joel (Margaret Welles Barron)': 1,\n",
       "         ' Dorothy Edith \"Dolly\"': 1,\n",
       "         ' (Karolina)': 1,\n",
       "         ' Asuncion': 1,\n",
       "         ' Richard Leonard (Sallie Monypeny)': 1,\n",
       "         ' Samuel (Hannah Wizosky)': 1,\n",
       "         ' Adele Kiamie \"Jane\"': 1,\n",
       "         ' Thomas Jr (Lily Alexenia Wilson)': 1,\n",
       "         ' William (Imanita Parrish Hall)': 1,\n",
       "         ' Gerda Ulrika': 1,\n",
       "         ' William (Margaret Norton)': 1,\n",
       "         ' Margaret Edith': 1,\n",
       "         ' Catherine Helen \"Carrie\"': 1})"
      ]
     },
     "execution_count": 137,
     "metadata": {},
     "output_type": "execute_result"
    }
   ],
   "source": [
    "from collections import Counter\n",
    "spisok_names = []\n",
    "for i in range(len(w_data)):\n",
    "    spisok_names.append(w_data['Name'][i].split(\".\")[-1])\n",
    "slovar = Counter(spisok_names)\n",
    "slovar"
   ]
  },
  {
   "cell_type": "code",
   "execution_count": 134,
   "metadata": {},
   "outputs": [],
   "source": [
    "def get_key(d, value):\n",
    "    for k, v in d.items():\n",
    "        if v == value:\n",
    "            return k"
   ]
  },
  {
   "cell_type": "code",
   "execution_count": 139,
   "metadata": {},
   "outputs": [
    {
     "data": {
      "text/plain": [
       "' Mary'"
      ]
     },
     "execution_count": 139,
     "metadata": {},
     "output_type": "execute_result"
    }
   ],
   "source": [
    "get_key(slovar, max(slovar.values()))"
   ]
  }
 ],
 "metadata": {
  "kernelspec": {
   "display_name": "Python 3",
   "language": "python",
   "name": "python3"
  },
  "language_info": {
   "codemirror_mode": {
    "name": "ipython",
    "version": 3
   },
   "file_extension": ".py",
   "mimetype": "text/x-python",
   "name": "python",
   "nbconvert_exporter": "python",
   "pygments_lexer": "ipython3",
   "version": "3.7.6"
  }
 },
 "nbformat": 4,
 "nbformat_minor": 4
}
