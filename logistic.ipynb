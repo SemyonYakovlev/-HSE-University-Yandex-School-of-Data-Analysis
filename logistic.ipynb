{
 "cells": [
  {
   "cell_type": "code",
   "execution_count": 2,
   "metadata": {},
   "outputs": [
    {
     "data": {
      "text/html": [
       "<div>\n",
       "<style scoped>\n",
       "    .dataframe tbody tr th:only-of-type {\n",
       "        vertical-align: middle;\n",
       "    }\n",
       "\n",
       "    .dataframe tbody tr th {\n",
       "        vertical-align: top;\n",
       "    }\n",
       "\n",
       "    .dataframe thead th {\n",
       "        text-align: right;\n",
       "    }\n",
       "</style>\n",
       "<table border=\"1\" class=\"dataframe\">\n",
       "  <thead>\n",
       "    <tr style=\"text-align: right;\">\n",
       "      <th></th>\n",
       "      <th>0</th>\n",
       "      <th>1</th>\n",
       "      <th>2</th>\n",
       "    </tr>\n",
       "  </thead>\n",
       "  <tbody>\n",
       "    <tr>\n",
       "      <th>0</th>\n",
       "      <td>-1</td>\n",
       "      <td>-0.663827</td>\n",
       "      <td>-0.138526</td>\n",
       "    </tr>\n",
       "    <tr>\n",
       "      <th>1</th>\n",
       "      <td>1</td>\n",
       "      <td>1.994596</td>\n",
       "      <td>2.468025</td>\n",
       "    </tr>\n",
       "    <tr>\n",
       "      <th>2</th>\n",
       "      <td>-1</td>\n",
       "      <td>-1.247395</td>\n",
       "      <td>0.749425</td>\n",
       "    </tr>\n",
       "    <tr>\n",
       "      <th>3</th>\n",
       "      <td>1</td>\n",
       "      <td>2.309374</td>\n",
       "      <td>1.899836</td>\n",
       "    </tr>\n",
       "    <tr>\n",
       "      <th>4</th>\n",
       "      <td>1</td>\n",
       "      <td>0.849143</td>\n",
       "      <td>2.407750</td>\n",
       "    </tr>\n",
       "    <tr>\n",
       "      <th>...</th>\n",
       "      <td>...</td>\n",
       "      <td>...</td>\n",
       "      <td>...</td>\n",
       "    </tr>\n",
       "    <tr>\n",
       "      <th>200</th>\n",
       "      <td>1</td>\n",
       "      <td>4.245176</td>\n",
       "      <td>3.053931</td>\n",
       "    </tr>\n",
       "    <tr>\n",
       "      <th>201</th>\n",
       "      <td>1</td>\n",
       "      <td>2.437935</td>\n",
       "      <td>1.357804</td>\n",
       "    </tr>\n",
       "    <tr>\n",
       "      <th>202</th>\n",
       "      <td>-1</td>\n",
       "      <td>-1.876638</td>\n",
       "      <td>1.533398</td>\n",
       "    </tr>\n",
       "    <tr>\n",
       "      <th>203</th>\n",
       "      <td>1</td>\n",
       "      <td>-6.824446</td>\n",
       "      <td>-13.934211</td>\n",
       "    </tr>\n",
       "    <tr>\n",
       "      <th>204</th>\n",
       "      <td>-1</td>\n",
       "      <td>0.001805</td>\n",
       "      <td>0.865147</td>\n",
       "    </tr>\n",
       "  </tbody>\n",
       "</table>\n",
       "<p>205 rows × 3 columns</p>\n",
       "</div>"
      ],
      "text/plain": [
       "     0         1          2\n",
       "0   -1 -0.663827  -0.138526\n",
       "1    1  1.994596   2.468025\n",
       "2   -1 -1.247395   0.749425\n",
       "3    1  2.309374   1.899836\n",
       "4    1  0.849143   2.407750\n",
       "..  ..       ...        ...\n",
       "200  1  4.245176   3.053931\n",
       "201  1  2.437935   1.357804\n",
       "202 -1 -1.876638   1.533398\n",
       "203  1 -6.824446 -13.934211\n",
       "204 -1  0.001805   0.865147\n",
       "\n",
       "[205 rows x 3 columns]"
      ]
     },
     "execution_count": 2,
     "metadata": {},
     "output_type": "execute_result"
    }
   ],
   "source": [
    "import pandas as pd\n",
    "import numpy as np\n",
    "\n",
    "df = pd.read_csv('data-logistic.csv',header = None)\n",
    "df"
   ]
  },
  {
   "cell_type": "code",
   "execution_count": 3,
   "metadata": {},
   "outputs": [],
   "source": [
    "def w_1_2(w1, w2, k, l, y, x1, x2, C):\n",
    "    for i in range(l):\n",
    "        w1 = w1 + k * 1 / l  * sum(y * x1*(1-(1/(1 + np.exp(-y*(w1*x1 + w2*x2))))) - k * C * w1)\n",
    "        w2 = w2 + k * 1 / l  * sum(y * x2*(1-(1/(1 + np.exp(-y*(w1*x1 + w2*x2))))) - k * C * w2)\n",
    "    return w1, w2"
   ]
  },
  {
   "cell_type": "code",
   "execution_count": 4,
   "metadata": {},
   "outputs": [],
   "source": [
    "def gradient(w1, w2,x1,x2,y, iterations,C, k,l):\n",
    "    for i in range(iterations):\n",
    "        new_w1,new_w2 = w1,w2\n",
    "        w1,w2 = w_1_2(w1, w2, k, l, y, x1, x2, C)\n",
    "        if np.sqrt((new_w1 - w1) ** 2 +(new_w2 - w2) ** 2) <= 1e-5:\n",
    "            break\n",
    "    return w1,w2"
   ]
  },
  {
   "cell_type": "code",
   "execution_count": 5,
   "metadata": {},
   "outputs": [
    {
     "data": {
      "text/plain": [
       "(0.28810816724893407, 0.09170912540748352)"
      ]
     },
     "execution_count": 5,
     "metadata": {},
     "output_type": "execute_result"
    }
   ],
   "source": [
    "L1 = gradient(w1=0, w2=0,x1= df[1],x2= df[2],y= df[0], iterations= 10000, C = 0, k =0.1, l =len(df))\n",
    "L1"
   ]
  },
  {
   "cell_type": "code",
   "execution_count": 42,
   "metadata": {},
   "outputs": [
    {
     "data": {
      "text/plain": [
       "(0.12332762198512853, 0.08680287094233434)"
      ]
     },
     "execution_count": 42,
     "metadata": {},
     "output_type": "execute_result"
    }
   ],
   "source": [
    "L2 = gradient(w1=0, w2=0,x1= df[1],x2= df[2],y= df[0], iterations= 10000, C = 10, k =0.1, l =len(df))\n",
    "L2"
   ]
  },
  {
   "cell_type": "code",
   "execution_count": 43,
   "metadata": {},
   "outputs": [],
   "source": [
    "def sigmoid(x1, x2, w1, w2):\n",
    "    return 1.0 / (1.0 + np.exp(-w1 * x1 - w2 * x2))"
   ]
  },
  {
   "cell_type": "code",
   "execution_count": 44,
   "metadata": {},
   "outputs": [
    {
     "data": {
      "text/plain": [
       "0      0.449187\n",
       "1      0.690188\n",
       "2      0.427843\n",
       "3      0.698377\n",
       "4      0.614308\n",
       "         ...   \n",
       "200    0.818043\n",
       "201    0.695702\n",
       "202    0.401301\n",
       "203    0.037540\n",
       "204    0.519955\n",
       "Length: 205, dtype: float64"
      ]
     },
     "execution_count": 44,
     "metadata": {},
     "output_type": "execute_result"
    }
   ],
   "source": [
    "sigmoid(x1= df[1],x2= df[2],w1 = L1[0], w2 = L1[1])"
   ]
  },
  {
   "cell_type": "code",
   "execution_count": 45,
   "metadata": {},
   "outputs": [
    {
     "name": "stdout",
     "output_type": "stream",
     "text": [
      "0.927\n",
      "0.937\n"
     ]
    }
   ],
   "source": [
    "from sklearn.metrics import roc_auc_score\n",
    "\n",
    "auc_L1 = roc_auc_score(df[0], sigmoid(x1= df[1],x2= df[2],w1 = L1[0], w2 = L1[1]))\n",
    "print(round(auc_L1,3))\n",
    "\n",
    "auc_L2 = roc_auc_score(df[0], sigmoid(x1= df[1],x2= df[2],w1 = L2[0], w2 = L2[1]))\n",
    "print(round(auc_L2,3))"
   ]
  }
 ],
 "metadata": {
  "kernelspec": {
   "display_name": "Python 3",
   "language": "python",
   "name": "python3"
  },
  "language_info": {
   "codemirror_mode": {
    "name": "ipython",
    "version": 3
   },
   "file_extension": ".py",
   "mimetype": "text/x-python",
   "name": "python",
   "nbconvert_exporter": "python",
   "pygments_lexer": "ipython3",
   "version": "3.7.6"
  }
 },
 "nbformat": 4,
 "nbformat_minor": 4
}
